{
 "cells": [
  {
   "cell_type": "code",
   "execution_count": 18,
   "id": "1f4a635e",
   "metadata": {},
   "outputs": [
    {
     "name": "stdout",
     "output_type": "stream",
     "text": [
      "Defaulting to user installation because normal site-packages is not writeable\n",
      "Requirement already satisfied: tkcalendar in c:\\users\\tanuc\\appdata\\roaming\\python\\python311\\site-packages (1.6.1)\n",
      "Requirement already satisfied: babel in c:\\programdata\\anaconda3\\lib\\site-packages (from tkcalendar) (2.11.0)\n",
      "Requirement already satisfied: pytz>=2015.7 in c:\\programdata\\anaconda3\\lib\\site-packages (from babel->tkcalendar) (2022.7)\n",
      "Note: you may need to restart the kernel to use updated packages.\n"
     ]
    }
   ],
   "source": [
    "pip install tkcalendar\n"
   ]
  },
  {
   "cell_type": "code",
   "execution_count": 20,
   "id": "c42c0559",
   "metadata": {},
   "outputs": [],
   "source": [
    "\n",
    "import tkinter as tk\n",
    "from tkinter import ttk, messagebox\n",
    "from tkcalendar import Calendar\n",
    "import datetime\n",
    "import pickle\n",
    "\n",
    "class CalendarApp:\n",
    "    def __init__(self, root):\n",
    "        self.root = root\n",
    "        self.root.title(\"Calendar and Reminder App\")\n",
    "        self.root.geometry(\"400x500\")\n",
    "        \n",
    "        style = ttk.Style()\n",
    "        style.configure(\"TFrame\", background=\"#D5E8D4\")\n",
    "        style.configure(\"TLabel\", background=\"#D5E7D4\", font=(\"Helvetica\", 12))\n",
    "        style.configure(\"TButton\", background=\"#76A6FA\", font=(\"Helvetica\", 10, \"bold\"))\n",
    "        style.configure(\"TEntry\", font=(\"Helvetica\", 10))\n",
    "        \n",
    "        self.calendar_frame = ttk.Frame(self.root)\n",
    "        self.calendar_frame.pack(pady=10)\n",
    "        \n",
    "        self.calendar = Calendar(self.calendar_frame, selectmode='day', year=datetime.datetime.now().year, month=datetime.datetime.now().month, day=datetime.datetime.now().day, background=\"white\", foreground=\"black\", headersbackground=\"lightblue\", normalbackground=\"white\", weekendbackground=\"lightyellow\")\n",
    "        self.calendar.pack()\n",
    "        \n",
    "        self.reminder_frame = ttk.Frame(self.root)\n",
    "        self.reminder_frame.pack(pady=10)\n",
    "        \n",
    "        self.reminder_label = ttk.Label(self.reminder_frame, text=\"Set Reminder\")\n",
    "        self.reminder_label.pack()\n",
    "        \n",
    "        self.reminder_entry = ttk.Entry(self.reminder_frame, width=30)\n",
    "        self.reminder_entry.pack(pady=5)\n",
    "        \n",
    "        self.set_reminder_button = ttk.Button(self.reminder_frame, text=\"Set Reminder\", command=self.set_reminder)\n",
    "        self.set_reminder_button.pack(pady=5)\n",
    "        \n",
    "        self.reminder_listbox = tk.Listbox(self.root, width=50, height=10, bg=\"#F8F4E3\", font=(\"Helvetica\", 10))\n",
    "        self.reminder_listbox.pack(pady=10)\n",
    "        \n",
    "        self.load_reminders()\n",
    "        \n",
    "        self.root.protocol(\"WM_DELETE_WINDOW\", self.on_closing)\n",
    "    \n",
    "    def set_reminder(self):\n",
    "        date = self.calendar.get_date()\n",
    "        reminder_text = self.reminder_entry.get()\n",
    "        if reminder_text:\n",
    "            self.reminder_listbox.insert(tk.END, f\"{date}: {reminder_text}\")\n",
    "            self.reminder_entry.delete(0, tk.END)\n",
    "        else:\n",
    "            messagebox.showwarning(\"Input Error\", \"Reminder text cannot be empty\")\n",
    "    \n",
    "    def load_reminders(self):\n",
    "        try:\n",
    "            with open(\"reminders.pkl\", \"rb\") as file:\n",
    "                reminders = pickle.load(file)\n",
    "                for reminder in reminders:\n",
    "                    self.reminder_listbox.insert(tk.END, reminder)\n",
    "        except FileNotFoundError:\n",
    "            pass\n",
    "    \n",
    "    def save_reminders(self):\n",
    "        reminders = self.reminder_listbox.get(0, tk.END)\n",
    "        with open(\"reminders.pkl\", \"wb\") as file:\n",
    "            pickle.dump(reminders, file)\n",
    "    \n",
    "    def on_closing(self):\n",
    "        self.save_reminders()\n",
    "        self.root.destroy()\n",
    "\n",
    "if __name__ == \"__main__\":\n",
    "    root = tk.Tk()\n",
    "    app = CalendarApp(root)\n",
    "    root.mainloop()\n"
   ]
  }
 ],
 "metadata": {
  "kernelspec": {
   "display_name": "Python 3 (ipykernel)",
   "language": "python",
   "name": "python3"
  },
  "language_info": {
   "codemirror_mode": {
    "name": "ipython",
    "version": 3
   },
   "file_extension": ".py",
   "mimetype": "text/x-python",
   "name": "python",
   "nbconvert_exporter": "python",
   "pygments_lexer": "ipython3",
   "version": "3.11.4"
  }
 },
 "nbformat": 4,
 "nbformat_minor": 5
}
